{
 "cells": [
  {
   "cell_type": "code",
   "execution_count": null,
   "metadata": {},
   "outputs": [],
   "source": [
    "from google.colab import drive\n",
    "drive.mount('/content/drive')"
   ]
  },
  {
   "cell_type": "code",
   "execution_count": null,
   "metadata": {},
   "outputs": [],
   "source": [
    "import openslide\n",
    "from io import BytesIO\n",
    "import os\n",
    "import numpy as np\n",
    "import matplotlib.pyplot as plt\n",
    "import sys\n",
    "import time\n",
    "import glob\n",
    "import pickle\n",
    "%matplotlib inline"
   ]
  },
  {
   "cell_type": "code",
   "execution_count": null,
   "metadata": {},
   "outputs": [],
   "source": [
    "df = pd.read_csv(r\"/content/training_data_classification_labels.csv\")\n",
    "column = \"CPM_RadPath_2019_ID\"\n",
    "class_name = \"class\"\n",
    "input_path = r'/content/drive/My Drive/Pathology'\n",
    "p_step=1\n",
    "patch_size = 512\n",
    "sdf = 1\n",
    "down_size = int(patch_size/sdf)\n",
    "file_size_dict = {}"
   ]
  },
  {
   "cell_type": "code",
   "execution_count": null,
   "metadata": {},
   "outputs": [],
   "source": [
    "for i in range(221):\n",
    "    img_path = df[column][i]\n",
    "    biopsy_img = openslide.Openslide(os.path.join(input_path,img_path+\".tiff\"))\n",
    "    biopsy_ldim = biopsy_img.level_dimensions[0]\n",
    "    x_step = int(biopsy_ldim[0]/patch_size)\n",
    "    y_step = int(biopsy_ldim[1]/patch_size)\n",
    "    file_size_dict.clear()\n",
    "    top_patches = int(0.0016*x_step*y_step*3)\n",
    "    if top_patches < 36:\n",
    "        top_patches = 36\n",
    "    \n",
    "    for j in range(0,x_step,p_step):\n",
    "        for k in range(0,y_step,p_step):\n",
    "            biopsy_img0 = biopsy_img.read_region((i*patch_size,j*patch_size), 0, (patch_size,patch_size))\n",
    "            mem_file = BytesIO()\n",
    "            biopsy_img0.save(mem_file, 'png')\n",
    "            mem_file_size = mem_file.tell()\n",
    "            file_size_dict[(i*patch_size,j*patch_size)] = mem_file_size\n",
    "    \n",
    "    sorted_fsd = sorted(file_size_dict.item(), reverse=True)\n",
    "    patch_list = open(os.path.join(input_path,\"Output\",img_path,\"patch_list.pkl\"), \"wb\")\n",
    "    pickle.dump(sorted_fsd, patch_list)\n",
    "    patch_list.close()\n",
    "    for j in range(top_patches, len(sorted_fsd)):\n",
    "        biopsy_img0 = biopsy_img.read_region(sorted_fsd[i][0], 0, (patch_size,patch_size))\n",
    "        biopsy_img0.save(os.path.join(input_path,\"Output\",img_path,img_path+\"_\"+str(sorted_fsd[i][0][0])+\"_\"+str(sorted_fsd[i][0][1])+\".png\", \"PNG\"))"
   ]
  }
 ],
 "metadata": {
  "kernelspec": {
   "display_name": "Python 3",
   "language": "python",
   "name": "python3"
  },
  "language_info": {
   "codemirror_mode": {
    "name": "ipython",
    "version": 3
   },
   "file_extension": ".py",
   "mimetype": "text/x-python",
   "name": "python",
   "nbconvert_exporter": "python",
   "pygments_lexer": "ipython3",
   "version": "3.6.7"
  }
 },
 "nbformat": 4,
 "nbformat_minor": 2
}
