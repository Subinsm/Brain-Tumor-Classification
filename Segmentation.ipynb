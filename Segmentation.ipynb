{
 "cells": [
  {
   "cell_type": "code",
   "execution_count": 0,
   "metadata": {
    "colab": {},
    "colab_type": "code",
    "id": "EXZZ17luTrZd"
   },
   "outputs": [],
   "source": [
    "from google.colab import drive\n",
    "drive.mount('/content/gdrive')"
   ]
  },
  {
   "cell_type": "code",
   "execution_count": 0,
   "metadata": {
    "colab": {},
    "colab_type": "code",
    "id": "FMEUjzzyB20l"
   },
   "outputs": [],
   "source": [
    "!pip install SimpleITK\n",
    "!wget https://github.com/IAmSuyogJadhav/3d-mri-brain-tumor-segmentation-using-autoencoder-regularization/raw/master/model.py"
   ]
  },
  {
   "cell_type": "code",
   "execution_count": 0,
   "metadata": {
    "colab": {},
    "colab_type": "code",
    "id": "MTNOonfiBF25"
   },
   "outputs": [],
   "source": [
    "import SimpleITK as sitk\n",
    "import numpy as np\n",
    "import pandas as pd\n",
    "from model_1 import build_model\n",
    "import glob\n",
    "from scipy.ndimage import zoom\n",
    "import re\n",
    "import nibabel\n",
    "import os\n",
    "import time\n",
    "import math\n",
    "\n",
    "import tensorflow as tf\n",
    "import keras.backend.tensorflow_backend as tfback"
   ]
  },
  {
   "cell_type": "code",
   "execution_count": 0,
   "metadata": {
    "colab": {},
    "colab_type": "code",
    "id": "SdQ2W7SLBok5"
   },
   "outputs": [],
   "source": [
    "def read_img(img_path):\n",
    "  return sitk.GetArrayFromImage(sitk.ReadImage(img_path))"
   ]
  },
  {
   "cell_type": "code",
   "execution_count": 0,
   "metadata": {
    "colab": {},
    "colab_type": "code",
    "id": "gdhqmfNiDrKw"
   },
   "outputs": [],
   "source": [
    "def resize(img, shape, mode='constant', orig_shape=(155, 240, 240)):\n",
    "  assert len(shape) == 3, \"Cannot have more than three dimensions\"\n",
    "  factors = (\n",
    "      shape[0]/orig_shape[0],\n",
    "      shape[1]/orig_shape[1],\n",
    "      shape[2]/orig_shape[2]\n",
    "  )\n",
    "  return zoom(img, factors, mode=mode)\n",
    "\n",
    "def preprocess(img, out_shape=None):\n",
    "  if out_shape is not None:\n",
    "    img = resize(img, out_shape, mode='constant')\n",
    "  \n",
    "  mean = img.mean()\n",
    "  std = img.std()\n",
    "  return (img - mean)/std\n",
    "\n",
    "def preprocess_label(img, out_shape=None, mode='nearest'):\n",
    "  ncr = img == 1\n",
    "  ed = img == 2\n",
    "  et = img == 4\n",
    "\n",
    "  if out_shape is not None:\n",
    "    ncr = resize(ncr, out_shape, mode=mode)\n",
    "    ed = resize(ed, out_shape, mode=mode)\n",
    "    et = resize(et, out_shape, mode=mode)\n",
    "  \n",
    "  return np.array([ncr, ed, et], dtype=np.uint8)"
   ]
  },
  {
   "cell_type": "code",
   "execution_count": 0,
   "metadata": {
    "colab": {},
    "colab_type": "code",
    "id": "pcOvnyhxFpdP"
   },
   "outputs": [],
   "source": [
    "t1 = glob.glob(r'/content/drive/My Drive/BRATS2019/BRATS19/MICCAI_BraTS_2019_Data_Training/HGG/*/*t1.nii.gz')\n",
    "t2 = glob.glob(r'/content/drive/My Drive/BRATS2019/BRATS19/MICCAI_BraTS_2019_Data_Training/HGG/*/*t2.nii.gz')\n",
    "flair = glob.glob(r'/content/drive/My Drive/BRATS2019/BRATS19/MICCAI_BraTS_2019_Data_Training/HGG/*/*flair.nii.gz')\n",
    "t1ce = glob.glob(r'/content/drive/My Drive/BRATS2019/BRATS19/MICCAI_BraTS_2019_Data_Training/HGG/*/*t1ce.nii.gz')\n",
    "seg = glob.glob(r'/content/drive/My Drive/BRATS2019/BRATS19/MICCAI_BraTS_2019_Data_Training/HGG/*/*seg.nii.gz')"
   ]
  },
  {
   "cell_type": "code",
   "execution_count": 0,
   "metadata": {
    "colab": {},
    "colab_type": "code",
    "id": "yVt6ZfBGGb1m"
   },
   "outputs": [],
   "source": [
    "pat = re.compile('.*_(\\w*)\\.nii\\.gz')\n",
    "\n",
    "data_paths = [{\n",
    "    pat.findall(item)[0]:item\n",
    "    for item in items\n",
    "}\n",
    "for items in list(zip(t1, t2, t1ce, flair, seg))]"
   ]
  },
  {
   "cell_type": "code",
   "execution_count": 0,
   "metadata": {
    "colab": {},
    "colab_type": "code",
    "id": "uy77WqHoG5qU"
   },
   "outputs": [],
   "source": [
    "input_shape = (4,80,96,64)\n",
    "output_channels = 3\n",
    "data = np.empty((len(data_paths[:4]),)+input_shape, dtype=np.float32)\n",
    "labels = np.empty((len(data_paths[:4]),output_channels)+input_shape[1:], dtype=np.uint8)"
   ]
  },
  {
   "cell_type": "code",
   "execution_count": 0,
   "metadata": {
    "colab": {},
    "colab_type": "code",
    "id": "l3KNUEb-NJmV"
   },
   "outputs": [],
   "source": [
    "timee = time.time()\n",
    "\n",
    "for i, imgs in enumerate(data_paths[:4]):\n",
    "  try:\n",
    "    labels[i] = preprocess_label(read_img(imgs['seg']), input_shape[1:])[None, ...]\n",
    "    data[i] = np.array([preprocess(read_img(imgs[m]), input_shape[1:]) for m in ['t1', 't2', 't1ce', 'flair']], dtype=np.float32)\n",
    "    print(i)\n",
    "\n",
    "  except Exception as e:\n",
    "    print(f'Exception: {str(e)}')\n",
    "    continue\n",
    "\n",
    "print(time.time() - timee)"
   ]
  },
  {
   "cell_type": "code",
   "execution_count": 0,
   "metadata": {
    "colab": {},
    "colab_type": "code",
    "id": "8R5ydfdNNOtX"
   },
   "outputs": [],
   "source": [
    "model = build_model(input_shape=input_shape, output_channels=3)"
   ]
  },
  {
   "cell_type": "code",
   "execution_count": 0,
   "metadata": {
    "colab": {},
    "colab_type": "code",
    "id": "54KSLSCcA0Zs"
   },
   "outputs": [],
   "source": [
    "timee = time.time()\n",
    "model.fit(data, labels, batch_size=1, validation_split=0.2, epochs=15)\n",
    "print(time.time()-timee)"
   ]
  },
  {
   "cell_type": "code",
   "execution_count": 0,
   "metadata": {
    "colab": {},
    "colab_type": "code",
    "id": "WJuvw0Nn9tS0"
   },
   "outputs": [],
   "source": [
    "model.save('/gdrive/My Drive/BRATS2019/seg_model.h5')"
   ]
  },
  {
   "cell_type": "code",
   "execution_count": 0,
   "metadata": {
    "colab": {},
    "colab_type": "code",
    "id": "-__z1hDI4yUb"
   },
   "outputs": [],
   "source": [
    "df = pd.read_csv('training_data_classification_labels.csv')\n",
    "column = \"CPM_RadPath_2019_ID\"\n",
    "classy = \"class\""
   ]
  },
  {
   "cell_type": "code",
   "execution_count": 0,
   "metadata": {
    "colab": {},
    "colab_type": "code",
    "id": "yjEO414d6qcg"
   },
   "outputs": [],
   "source": [
    "data_path = \"/gdrive/My Drive/UPenn_Data/miccai2019-data/CPM-RadPath_2019_Training_Data/Radiology\"\n",
    "flair = \"_flair.nii.gz\"\n",
    "t1 = \"_t1.nii.gz\"\n",
    "t1_ce = \"_t1ce.nii.gz\"\n",
    "t2 = \"_t2.nii.gz\""
   ]
  },
  {
   "cell_type": "code",
   "execution_count": 0,
   "metadata": {
    "colab": {},
    "colab_type": "code",
    "id": "VNbg6WHKYv_p"
   },
   "outputs": [],
   "source": [
    "input_shape_test = (4,80,96,64)\n",
    "output_channels_test = 3"
   ]
  },
  {
   "cell_type": "code",
   "execution_count": 0,
   "metadata": {
    "colab": {},
    "colab_type": "code",
    "id": "ooEt5a9JY7tK"
   },
   "outputs": [],
   "source": [
    "t1_path = []\n",
    "t1ce_path = []\n",
    "flair_path = []\n",
    "t2_path = []\n",
    "def data_paths():\n",
    "    for i in range(df[column].shape[0]):\n",
    "        data_path2 = df[column][i]\n",
    "        t2_path.append(os.path.join(data_path,data_path2,data_path2+t2))\n",
    "        flair_path.append(os.path.join(data_path,data_path2,data_path2+flair))\n",
    "        t1_path.append(os.path.join(data_path,data_path2,data_path2+t1))\n",
    "        t1ce_path.append(os.path.join(data_path,data_path2,data_path2+t1_ce))\n",
    "    return\n",
    "\n",
    "data_paths()"
   ]
  },
  {
   "cell_type": "code",
   "execution_count": 0,
   "metadata": {
    "colab": {},
    "colab_type": "code",
    "id": "cVAlwoLJZD_Z"
   },
   "outputs": [],
   "source": [
    "pat_test = re.compile('.*_(\\w*)\\.nii\\.gz')\n",
    "\n",
    "data_paths_test = [{\n",
    "    pat_test.findall(item)[0]:item\n",
    "    for item in items\n",
    "}\n",
    "for items in list(zip(t1_path, t2_path, t1ce_path, flair_path))]\n",
    "print(data_paths_test)"
   ]
  },
  {
   "cell_type": "code",
   "execution_count": 0,
   "metadata": {
    "colab": {},
    "colab_type": "code",
    "id": "1y1PtDgHZNZT"
   },
   "outputs": [],
   "source": [
    "timee = time.time()\n",
    "data_test = np.empty((221,)+input_shape_test, dtype=np.float32)\n",
    "x_in = 20\n",
    "y_in = 50\n",
    "for i,imgs in enumerate(data_paths_test[:]):\n",
    "    try:\n",
    "        data_test[i] = np.array([preprocess(read_img(imgs[m]), input_shape_test[1:]) for m in ['t1', 't2', 't1ce', 'flair']], dtype=np.float32)\n",
    "        print(i)\n",
    "    \n",
    "    except Exception as e:\n",
    "        print(f'Exception: {str(e)}')\n",
    "        continue\n",
    "\n",
    "print(time.time()-timee)"
   ]
  },
  {
   "cell_type": "code",
   "execution_count": 0,
   "metadata": {
    "colab": {},
    "colab_type": "code",
    "id": "2LZBI2gkZblO"
   },
   "outputs": [],
   "source": [
    "lis = []\n",
    "lis = model.predict(data_test)\n",
    "\n",
    "out_path = \"/gdrive/My Drive/UPenn_Data/miccai2019-data/CPM-RadPath_2019_Training_Data/Radiology\"\n",
    "\n",
    "timee = time.time()\n",
    "for i in range(0,221):\n",
    "  try:  \n",
    "    pathss = df[column][i]\n",
    "    img1 = nib.Nifti1Image(lis[i][0], affine=np.eye(4))\n",
    "    img2 = nib.Nifti1Image(lis[i][1], affine=np.eye(4))\n",
    "    img3 = nib.Nifti1Image(lis[i][2], affine=np.eye(4))\n",
    "\n",
    "    nib.save(img1, os.path.join(out_path,pathss,pathss+\"_img1.nii.gz\"))\n",
    "    nib.save(img2, os.path.join(out_path,pathss,pathss+\"_img2.nii.gz\"))\n",
    "    nib.save(img3, os.path.join(out_path,pathss,pathss+\"_img3.nii.gz\"))\n",
    "    print(i)\n",
    "  \n",
    "  except Exception as e:\n",
    "    print(f'Exception: str{e}')\n",
    "    continue\n",
    "\n",
    "print(time.time()-timee)"
   ]
  }
 ],
 "metadata": {
  "colab": {
   "collapsed_sections": [],
   "machine_shape": "hm",
   "name": "BRATS_Segmentation.ipynb",
   "provenance": []
  },
  "kernelspec": {
   "display_name": "Python 3",
   "language": "python",
   "name": "python3"
  },
  "language_info": {
   "codemirror_mode": {
    "name": "ipython",
    "version": 3
   },
   "file_extension": ".py",
   "mimetype": "text/x-python",
   "name": "python",
   "nbconvert_exporter": "python",
   "pygments_lexer": "ipython3",
   "version": "3.6.7"
  }
 },
 "nbformat": 4,
 "nbformat_minor": 1
}
